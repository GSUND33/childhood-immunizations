{
 "cells": [
  {
   "cell_type": "code",
   "execution_count": 1,
   "metadata": {},
   "outputs": [],
   "source": [
    "import tweepy\n",
    "import pandas as pd\n",
    "consumer_key = \"cHxh3BJC01iuz6PZZtEIMn4nk\"\n",
    "consumer_secret = \"U3rVXvB3GlaxzgCNiYP1Rvd57SB6ISCZbHhLLAcsN27x1kix9O\"\n",
    "access_token = \"2445674791-sPbwbCEY4b6QvMvgz4q2dNKrJXgX0LirXMHJor9\"\n",
    "access_token_secret = \"jybjiqSXKwoSHWchEOsfwZwXVuZgZb70a2gmLOG5SLNux\""
   ]
  },
  {
   "cell_type": "code",
   "execution_count": 2,
   "metadata": {},
   "outputs": [],
   "source": [
    "auth = tweepy.OAuthHandler(consumer_key, consumer_secret)\n",
    "auth.set_access_token(access_token, access_token_secret)\n",
    "api = tweepy.API(auth, wait_on_rate_limit=True)"
   ]
  },
  {
   "cell_type": "code",
   "execution_count": 3,
   "metadata": {},
   "outputs": [],
   "source": [
    "search_term = \"#DoctorsSpeakUp\"\n",
    "vaccine_tweets = search_term + \" -filter:retweets\"\n",
    "date_since = \"2020-02-22\""
   ]
  },
  {
   "cell_type": "code",
   "execution_count": 4,
   "metadata": {},
   "outputs": [
    {
     "data": {
      "text/plain": [
       "<tweepy.cursor.ItemIterator at 0x2056ab2a408>"
      ]
     },
     "execution_count": 4,
     "metadata": {},
     "output_type": "execute_result"
    }
   ],
   "source": [
    "tweets = tweepy.Cursor(api.search,\n",
    "                       tweet_mode='extended',\n",
    "                       q=vaccine_tweets,\n",
    "                       lang=\"en\",\n",
    "                       since=date_since).items(3000)\n",
    "tweets"
   ]
  },
  {
   "cell_type": "code",
   "execution_count": 5,
   "metadata": {
    "scrolled": true
   },
   "outputs": [],
   "source": [
    "users_locs = [[tweet.user.location, tweet.full_text] for tweet in tweets]"
   ]
  },
  {
   "cell_type": "code",
   "execution_count": 6,
   "metadata": {},
   "outputs": [
    {
     "data": {
      "text/html": [
       "<div>\n",
       "<style scoped>\n",
       "    .dataframe tbody tr th:only-of-type {\n",
       "        vertical-align: middle;\n",
       "    }\n",
       "\n",
       "    .dataframe tbody tr th {\n",
       "        vertical-align: top;\n",
       "    }\n",
       "\n",
       "    .dataframe thead th {\n",
       "        text-align: right;\n",
       "    }\n",
       "</style>\n",
       "<table border=\"1\" class=\"dataframe\">\n",
       "  <thead>\n",
       "    <tr style=\"text-align: right;\">\n",
       "      <th></th>\n",
       "      <th>Location</th>\n",
       "      <th>Text</th>\n",
       "    </tr>\n",
       "  </thead>\n",
       "  <tbody>\n",
       "    <tr>\n",
       "      <td>0</td>\n",
       "      <td></td>\n",
       "      <td>@Newsweek FOIA request proves CDC Has NO STUDI...</td>\n",
       "    </tr>\n",
       "    <tr>\n",
       "      <td>1</td>\n",
       "      <td></td>\n",
       "      <td>@Newsweek When will #doctorsspeakup and admit ...</td>\n",
       "    </tr>\n",
       "    <tr>\n",
       "      <td>2</td>\n",
       "      <td></td>\n",
       "      <td>@unhealthytruth Epic fail on Todd’s part. Thou...</td>\n",
       "    </tr>\n",
       "    <tr>\n",
       "      <td>3</td>\n",
       "      <td></td>\n",
       "      <td>@PaulLidicul When will there be a sycophancy v...</td>\n",
       "    </tr>\n",
       "    <tr>\n",
       "      <td>4</td>\n",
       "      <td></td>\n",
       "      <td>@CFosee @CDCDirector wow, disrespecting an ent...</td>\n",
       "    </tr>\n",
       "  </tbody>\n",
       "</table>\n",
       "</div>"
      ],
      "text/plain": [
       "  Location                                               Text\n",
       "0           @Newsweek FOIA request proves CDC Has NO STUDI...\n",
       "1           @Newsweek When will #doctorsspeakup and admit ...\n",
       "2           @unhealthytruth Epic fail on Todd’s part. Thou...\n",
       "3           @PaulLidicul When will there be a sycophancy v...\n",
       "4           @CFosee @CDCDirector wow, disrespecting an ent..."
      ]
     },
     "execution_count": 6,
     "metadata": {},
     "output_type": "execute_result"
    }
   ],
   "source": [
    "vaccine_tweets = pd.DataFrame(data=users_locs,\n",
    "                             columns=['Location', 'Text'])\n",
    "vaccine_tweets.head()"
   ]
  },
  {
   "cell_type": "code",
   "execution_count": 7,
   "metadata": {},
   "outputs": [],
   "source": [
    "vaccine_tweets.to_csv('tweets.csv', index=False)"
   ]
  },
  {
   "cell_type": "code",
   "execution_count": null,
   "metadata": {},
   "outputs": [],
   "source": []
  }
 ],
 "metadata": {
  "kernelspec": {
   "display_name": "Python 3",
   "language": "python",
   "name": "python3"
  },
  "language_info": {
   "codemirror_mode": {
    "name": "ipython",
    "version": 3
   },
   "file_extension": ".py",
   "mimetype": "text/x-python",
   "name": "python",
   "nbconvert_exporter": "python",
   "pygments_lexer": "ipython3",
   "version": "3.7.4"
  }
 },
 "nbformat": 4,
 "nbformat_minor": 2
}
